{
  "nbformat": 4,
  "nbformat_minor": 0,
  "metadata": {
    "colab": {
      "provenance": [],
      "include_colab_link": true
    },
    "kernelspec": {
      "name": "python3",
      "display_name": "Python 3"
    },
    "language_info": {
      "name": "python"
    }
  },
  "cells": [
    {
      "cell_type": "markdown",
      "metadata": {
        "id": "view-in-github",
        "colab_type": "text"
      },
      "source": [
        "<a href=\"https://colab.research.google.com/github/sana9524/Data_Science/blob/main/HypothesisTesting_Cusorderform.ipynb\" target=\"_parent\"><img src=\"https://colab.research.google.com/assets/colab-badge.svg\" alt=\"Open In Colab\"/></a>"
      ]
    },
    {
      "cell_type": "code",
      "execution_count": 4,
      "metadata": {
        "id": "vllbY4EtawAi"
      },
      "outputs": [],
      "source": [
        "import pandas as pd\n",
        "from scipy.stats import chi2_contingency"
      ]
    },
    {
      "cell_type": "code",
      "source": [
        "path = r\"/content/Costomer+OrderForm.csv\""
      ],
      "metadata": {
        "id": "qZtZSf0GcLMS"
      },
      "execution_count": 5,
      "outputs": []
    },
    {
      "cell_type": "code",
      "source": [
        "data = pd.read_csv(path)"
      ],
      "metadata": {
        "id": "7NU_jc9ecIWa"
      },
      "execution_count": 6,
      "outputs": []
    },
    {
      "cell_type": "code",
      "source": [
        "philipines = data['Phillippines']\n",
        "indonesia = data['Indonesia']\n",
        "malta = data['Malta']\n",
        "india = data['India']"
      ],
      "metadata": {
        "id": "HMxnFvp2cUbH"
      },
      "execution_count": 7,
      "outputs": []
    },
    {
      "cell_type": "code",
      "source": [
        "contingency_table = pd.crosstab(index=philipines, columns=[indonesia, malta, india])"
      ],
      "metadata": {
        "id": "JfgZvm3Uchst"
      },
      "execution_count": 8,
      "outputs": []
    },
    {
      "cell_type": "code",
      "source": [
        "chi2, p_value, _, _ = chi2_contingency(contingency_table)"
      ],
      "metadata": {
        "id": "JwfbkMOBcl-U"
      },
      "execution_count": 9,
      "outputs": []
    },
    {
      "cell_type": "code",
      "source": [
        "alpha = 0.05"
      ],
      "metadata": {
        "id": "9pbpZjibcpTM"
      },
      "execution_count": 10,
      "outputs": []
    },
    {
      "cell_type": "code",
      "source": [
        "if p_value < alpha:\n",
        "    print(\"There is a significant difference among the four columns of categorical variables.\")\n",
        "else:\n",
        "    print(\"There is no significant difference among the four columns of categorical variables.\")"
      ],
      "metadata": {
        "colab": {
          "base_uri": "https://localhost:8080/"
        },
        "id": "Ic2imKT4ctNf",
        "outputId": "41ffdc25-b77f-414e-9301-7f3c1e777314"
      },
      "execution_count": 11,
      "outputs": [
        {
          "output_type": "stream",
          "name": "stdout",
          "text": [
            "There is no significant difference among the four columns of categorical variables.\n"
          ]
        }
      ]
    },
    {
      "cell_type": "code",
      "source": [
        "print(\"Chi-Square statistic:\", chi2)\n",
        "print(\"P-value:\", p_value)"
      ],
      "metadata": {
        "colab": {
          "base_uri": "https://localhost:8080/"
        },
        "id": "aR-ifSU0cxaE",
        "outputId": "b5911e3f-381c-45a3-cd50-2876a77114db"
      },
      "execution_count": 12,
      "outputs": [
        {
          "output_type": "stream",
          "name": "stdout",
          "text": [
            "Chi-Square statistic: 3.1001395592512266\n",
            "P-value: 0.6845505149379718\n"
          ]
        }
      ]
    }
  ]
}