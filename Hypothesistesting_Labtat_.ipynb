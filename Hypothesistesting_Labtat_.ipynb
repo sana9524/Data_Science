{
  "nbformat": 4,
  "nbformat_minor": 0,
  "metadata": {
    "colab": {
      "provenance": [],
      "include_colab_link": true
    },
    "kernelspec": {
      "name": "python3",
      "display_name": "Python 3"
    },
    "language_info": {
      "name": "python"
    }
  },
  "cells": [
    {
      "cell_type": "markdown",
      "metadata": {
        "id": "view-in-github",
        "colab_type": "text"
      },
      "source": [
        "<a href=\"https://colab.research.google.com/github/sana9524/Data_Science/blob/main/Hypothesistesting_Labtat_.ipynb\" target=\"_parent\"><img src=\"https://colab.research.google.com/assets/colab-badge.svg\" alt=\"Open In Colab\"/></a>"
      ]
    },
    {
      "cell_type": "code",
      "execution_count": 1,
      "metadata": {
        "colab": {
          "base_uri": "https://localhost:8080/"
        },
        "id": "ptUwJQi6Me_V",
        "outputId": "859253cb-927a-4b01-84b3-12d2bfd017a4"
      },
      "outputs": [
        {
          "output_type": "stream",
          "name": "stdout",
          "text": [
            "     Laboratory 1  Laboratory 2  Laboratory 3  Laboratory 4\n",
            "0          185.35        165.53        176.70        166.13\n",
            "1          170.49        185.91        198.45        160.79\n",
            "2          192.77        194.92        201.23        185.18\n",
            "3          177.33        183.00        199.61        176.42\n",
            "4          193.41        169.57        204.63        152.60\n",
            "..            ...           ...           ...           ...\n",
            "115        178.49        170.66        193.80        172.68\n",
            "116        176.08        183.98        215.25        177.64\n",
            "117        202.48        174.54        203.99        170.27\n",
            "118        182.40        197.18        194.52        150.87\n",
            "119        182.09        215.17        221.49        162.21\n",
            "\n",
            "[120 rows x 4 columns]\n"
          ]
        }
      ],
      "source": [
        "import pandas as pd\n",
        "from scipy import stats\n",
        "\n",
        "path = r\"/content/LabTAT.csv\"\n",
        "data = pd.read_csv(path)\n",
        "print(data)\n",
        "\n"
      ]
    },
    {
      "cell_type": "code",
      "source": [
        "# Extract the TAT measurements for each laboratory (assuming columns Lab1, Lab2, Lab3, Lab4)\n",
        "lab1 = data['Laboratory 1']\n",
        "lab2 = data['Laboratory 2']\n",
        "lab3 = data['Laboratory 3']\n",
        "lab4 = data['Laboratory 4']\n",
        "\n",
        "f_statistic, p_value = stats.f_oneway(lab1, lab2, lab3, lab4)\n",
        "\n",
        "alpha = 0.05\n",
        "\n",
        "if p_value < alpha:\n",
        "    print(\"There is a significant difference in average TAT among the different laboratories.\")\n",
        "else:\n",
        "    print(\"There is no significant difference in average TAT among the different laboratories.\")\n",
        "\n",
        "print(\"F-statistic:\", f_statistic)\n",
        "print(\"P-value:\", p_value)"
      ],
      "metadata": {
        "colab": {
          "base_uri": "https://localhost:8080/"
        },
        "id": "aa-Xou39ZsdK",
        "outputId": "f542a6aa-032d-4c6d-a109-7594f7cee003"
      },
      "execution_count": 2,
      "outputs": [
        {
          "output_type": "stream",
          "name": "stdout",
          "text": [
            "There is a significant difference in average TAT among the different laboratories.\n",
            "F-statistic: 118.70421654401437\n",
            "P-value: 2.1156708949992414e-57\n"
          ]
        }
      ]
    }
  ]
}